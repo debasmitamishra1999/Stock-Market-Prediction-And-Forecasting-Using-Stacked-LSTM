{
  "nbformat": 4,
  "nbformat_minor": 0,
  "metadata": {
    "colab": {
      "name": "stockmarket2.ipynb",
      "provenance": [],
      "collapsed_sections": [],
      "authorship_tag": "ABX9TyPqSrEiKHo5Sn79GHY0RHiM",
      "include_colab_link": true
    },
    "kernelspec": {
      "name": "python3",
      "display_name": "Python 3"
    },
    "language_info": {
      "name": "python"
    }
  },
  "cells": [
    {
      "cell_type": "markdown",
      "metadata": {
        "id": "view-in-github",
        "colab_type": "text"
      },
      "source": [
        "<a href=\"https://colab.research.google.com/github/debasmitamishra1999/AI-ML-week1-Task/blob/main/stockmarket2.ipynb\" target=\"_parent\"><img src=\"https://colab.research.google.com/assets/colab-badge.svg\" alt=\"Open In Colab\"/></a>"
      ]
    },
    {
      "cell_type": "code",
      "metadata": {
        "id": "cOksi0XIMGF6"
      },
      "source": [
        "#Import necessary Libraries\n",
        "import pandas as pd\n",
        "import numpy as np\n",
        "import math\n",
        "import matplotlib.pyplot as plt\n",
        "from sklearn.preprocessing import MinMaxScaler\n",
        "from sklearn.metrics import mean_squared_error\n",
        "import tensorflow as tf\n",
        "from tensorflow.python.keras.models import Sequential\n",
        "from tensorflow.python.keras.layers import Dense\n",
        "from tensorflow.python.keras.layers import LSTM\n",
        "%matplotlib inline"
      ],
      "execution_count": null,
      "outputs": []
    },
    {
      "cell_type": "code",
      "metadata": {
        "colab": {
          "base_uri": "https://localhost:8080/",
          "height": 205
        },
        "id": "xo_AT52ZMOZG",
        "outputId": "9643200c-63bd-4b1d-8b79-ad393a162a64"
      },
      "source": [
        "#Import the data and remove rows containing NAN values\n",
        "df = pd.read_csv('NSE-TATAGLOBAL.csv')\n",
        "df = df.dropna()\n",
        "df.head()"
      ],
      "execution_count": null,
      "outputs": [
        {
          "output_type": "execute_result",
          "data": {
            "text/html": [
              "<div>\n",
              "<style scoped>\n",
              "    .dataframe tbody tr th:only-of-type {\n",
              "        vertical-align: middle;\n",
              "    }\n",
              "\n",
              "    .dataframe tbody tr th {\n",
              "        vertical-align: top;\n",
              "    }\n",
              "\n",
              "    .dataframe thead th {\n",
              "        text-align: right;\n",
              "    }\n",
              "</style>\n",
              "<table border=\"1\" class=\"dataframe\">\n",
              "  <thead>\n",
              "    <tr style=\"text-align: right;\">\n",
              "      <th></th>\n",
              "      <th>Date</th>\n",
              "      <th>Open</th>\n",
              "      <th>High</th>\n",
              "      <th>Low</th>\n",
              "      <th>Last</th>\n",
              "      <th>Close</th>\n",
              "      <th>Total Trade Quantity</th>\n",
              "      <th>Turnover (Lacs)</th>\n",
              "    </tr>\n",
              "  </thead>\n",
              "  <tbody>\n",
              "    <tr>\n",
              "      <th>0</th>\n",
              "      <td>2018-09-28</td>\n",
              "      <td>234.05</td>\n",
              "      <td>235.95</td>\n",
              "      <td>230.20</td>\n",
              "      <td>233.50</td>\n",
              "      <td>233.75</td>\n",
              "      <td>3069914</td>\n",
              "      <td>7162.35</td>\n",
              "    </tr>\n",
              "    <tr>\n",
              "      <th>1</th>\n",
              "      <td>2018-09-27</td>\n",
              "      <td>234.55</td>\n",
              "      <td>236.80</td>\n",
              "      <td>231.10</td>\n",
              "      <td>233.80</td>\n",
              "      <td>233.25</td>\n",
              "      <td>5082859</td>\n",
              "      <td>11859.95</td>\n",
              "    </tr>\n",
              "    <tr>\n",
              "      <th>2</th>\n",
              "      <td>2018-09-26</td>\n",
              "      <td>240.00</td>\n",
              "      <td>240.00</td>\n",
              "      <td>232.50</td>\n",
              "      <td>235.00</td>\n",
              "      <td>234.25</td>\n",
              "      <td>2240909</td>\n",
              "      <td>5248.60</td>\n",
              "    </tr>\n",
              "    <tr>\n",
              "      <th>3</th>\n",
              "      <td>2018-09-25</td>\n",
              "      <td>233.30</td>\n",
              "      <td>236.75</td>\n",
              "      <td>232.00</td>\n",
              "      <td>236.25</td>\n",
              "      <td>236.10</td>\n",
              "      <td>2349368</td>\n",
              "      <td>5503.90</td>\n",
              "    </tr>\n",
              "    <tr>\n",
              "      <th>4</th>\n",
              "      <td>2018-09-24</td>\n",
              "      <td>233.55</td>\n",
              "      <td>239.20</td>\n",
              "      <td>230.75</td>\n",
              "      <td>234.00</td>\n",
              "      <td>233.30</td>\n",
              "      <td>3423509</td>\n",
              "      <td>7999.55</td>\n",
              "    </tr>\n",
              "  </tbody>\n",
              "</table>\n",
              "</div>"
            ],
            "text/plain": [
              "         Date    Open    High  ...   Close  Total Trade Quantity  Turnover (Lacs)\n",
              "0  2018-09-28  234.05  235.95  ...  233.75               3069914          7162.35\n",
              "1  2018-09-27  234.55  236.80  ...  233.25               5082859         11859.95\n",
              "2  2018-09-26  240.00  240.00  ...  234.25               2240909          5248.60\n",
              "3  2018-09-25  233.30  236.75  ...  236.10               2349368          5503.90\n",
              "4  2018-09-24  233.55  239.20  ...  233.30               3423509          7999.55\n",
              "\n",
              "[5 rows x 8 columns]"
            ]
          },
          "metadata": {},
          "execution_count": 2
        }
      ]
    },
    {
      "cell_type": "code",
      "metadata": {
        "colab": {
          "base_uri": "https://localhost:8080/",
          "height": 205
        },
        "id": "a3UIntyaMukg",
        "outputId": "49313ff1-f4da-4e4f-906a-709f845012cf"
      },
      "source": [
        "df.tail()"
      ],
      "execution_count": null,
      "outputs": [
        {
          "output_type": "execute_result",
          "data": {
            "text/html": [
              "<div>\n",
              "<style scoped>\n",
              "    .dataframe tbody tr th:only-of-type {\n",
              "        vertical-align: middle;\n",
              "    }\n",
              "\n",
              "    .dataframe tbody tr th {\n",
              "        vertical-align: top;\n",
              "    }\n",
              "\n",
              "    .dataframe thead th {\n",
              "        text-align: right;\n",
              "    }\n",
              "</style>\n",
              "<table border=\"1\" class=\"dataframe\">\n",
              "  <thead>\n",
              "    <tr style=\"text-align: right;\">\n",
              "      <th></th>\n",
              "      <th>Date</th>\n",
              "      <th>Open</th>\n",
              "      <th>High</th>\n",
              "      <th>Low</th>\n",
              "      <th>Last</th>\n",
              "      <th>Close</th>\n",
              "      <th>Total Trade Quantity</th>\n",
              "      <th>Turnover (Lacs)</th>\n",
              "    </tr>\n",
              "  </thead>\n",
              "  <tbody>\n",
              "    <tr>\n",
              "      <th>2030</th>\n",
              "      <td>2010-07-27</td>\n",
              "      <td>117.6</td>\n",
              "      <td>119.50</td>\n",
              "      <td>112.00</td>\n",
              "      <td>118.80</td>\n",
              "      <td>118.65</td>\n",
              "      <td>586100</td>\n",
              "      <td>694.98</td>\n",
              "    </tr>\n",
              "    <tr>\n",
              "      <th>2031</th>\n",
              "      <td>2010-07-26</td>\n",
              "      <td>120.1</td>\n",
              "      <td>121.00</td>\n",
              "      <td>117.10</td>\n",
              "      <td>117.10</td>\n",
              "      <td>117.60</td>\n",
              "      <td>658440</td>\n",
              "      <td>780.01</td>\n",
              "    </tr>\n",
              "    <tr>\n",
              "      <th>2032</th>\n",
              "      <td>2010-07-23</td>\n",
              "      <td>121.8</td>\n",
              "      <td>121.95</td>\n",
              "      <td>120.25</td>\n",
              "      <td>120.35</td>\n",
              "      <td>120.65</td>\n",
              "      <td>281312</td>\n",
              "      <td>340.31</td>\n",
              "    </tr>\n",
              "    <tr>\n",
              "      <th>2033</th>\n",
              "      <td>2010-07-22</td>\n",
              "      <td>120.3</td>\n",
              "      <td>122.00</td>\n",
              "      <td>120.25</td>\n",
              "      <td>120.75</td>\n",
              "      <td>120.90</td>\n",
              "      <td>293312</td>\n",
              "      <td>355.17</td>\n",
              "    </tr>\n",
              "    <tr>\n",
              "      <th>2034</th>\n",
              "      <td>2010-07-21</td>\n",
              "      <td>122.1</td>\n",
              "      <td>123.00</td>\n",
              "      <td>121.05</td>\n",
              "      <td>121.10</td>\n",
              "      <td>121.55</td>\n",
              "      <td>658666</td>\n",
              "      <td>803.56</td>\n",
              "    </tr>\n",
              "  </tbody>\n",
              "</table>\n",
              "</div>"
            ],
            "text/plain": [
              "            Date   Open    High  ...   Close  Total Trade Quantity  Turnover (Lacs)\n",
              "2030  2010-07-27  117.6  119.50  ...  118.65                586100           694.98\n",
              "2031  2010-07-26  120.1  121.00  ...  117.60                658440           780.01\n",
              "2032  2010-07-23  121.8  121.95  ...  120.65                281312           340.31\n",
              "2033  2010-07-22  120.3  122.00  ...  120.90                293312           355.17\n",
              "2034  2010-07-21  122.1  123.00  ...  121.55                658666           803.56\n",
              "\n",
              "[5 rows x 8 columns]"
            ]
          },
          "metadata": {},
          "execution_count": 3
        }
      ]
    },
    {
      "cell_type": "code",
      "metadata": {
        "id": "1lGlhSrRM1CN"
      },
      "source": [
        "df_close = df['Close']"
      ],
      "execution_count": null,
      "outputs": []
    },
    {
      "cell_type": "code",
      "metadata": {
        "colab": {
          "base_uri": "https://localhost:8080/"
        },
        "id": "j2t4hUzFM9Hh",
        "outputId": "1d9a60f0-7f5d-4b48-ffa4-3b83152f4d29"
      },
      "source": [
        "df_close.shape"
      ],
      "execution_count": null,
      "outputs": [
        {
          "output_type": "execute_result",
          "data": {
            "text/plain": [
              "(2035,)"
            ]
          },
          "metadata": {},
          "execution_count": 5
        }
      ]
    },
    {
      "cell_type": "code",
      "metadata": {
        "colab": {
          "base_uri": "https://localhost:8080/",
          "height": 283
        },
        "id": "sbIh8CjCNAwb",
        "outputId": "6f2ee603-6fb1-4f3a-eae6-f4712dfcc962"
      },
      "source": [
        "plt.plot(df_close)"
      ],
      "execution_count": null,
      "outputs": [
        {
          "output_type": "execute_result",
          "data": {
            "text/plain": [
              "[<matplotlib.lines.Line2D at 0x7ff1cd43cc10>]"
            ]
          },
          "metadata": {},
          "execution_count": 6
        },
        {
          "output_type": "display_data",
          "data": {
            "image/png": "[encoded data removed]",
            "text/plain": [
              "<Figure size 432x288 with 1 Axes>"
            ]
          },
          "metadata": {
            "needs_background": "light"
          }
        }
      ]
    },
    {
      "cell_type": "code",
      "metadata": {
        "id": "qSlHMxD5NF9r"
      },
      "source": [
        "scaler = MinMaxScaler(feature_range = (0,1))\n",
        "df_close = scaler.fit_transform(np.array(df_close).reshape(-1,1))"
      ],
      "execution_count": null,
      "outputs": []
    },
    {
      "cell_type": "code",
      "metadata": {
        "colab": {
          "base_uri": "https://localhost:8080/"
        },
        "id": "glO9KbfhNNza",
        "outputId": "9e3c2be9-3027-4191-e80c-a90ce365e845"
      },
      "source": [
        "df_close.shape"
      ],
      "execution_count": null,
      "outputs": [
        {
          "output_type": "execute_result",
          "data": {
            "text/plain": [
              "(2035, 1)"
            ]
          },
          "metadata": {},
          "execution_count": 8
        }
      ]
    },
    {
      "cell_type": "code",
      "metadata": {
        "colab": {
          "base_uri": "https://localhost:8080/"
        },
        "id": "iCNEFCzLNRif",
        "outputId": "7a95bff3-5991-4336-8720-c00515b2d24d"
      },
      "source": [
        "df_close"
      ],
      "execution_count": null,
      "outputs": [
        {
          "output_type": "execute_result",
          "data": {
            "text/plain": [
              "array([[0.62418301],\n",
              "       [0.62214052],\n",
              "       [0.62622549],\n",
              "       ...,\n",
              "       [0.1621732 ],\n",
              "       [0.16319444],\n",
              "       [0.16584967]])"
            ]
          },
          "metadata": {},
          "execution_count": 9
        }
      ]
    },
    {
      "cell_type": "code",
      "metadata": {
        "id": "iGJYOoVONWY1"
      },
      "source": [
        "#Split the data into train and test split\n",
        "training_size = int(len(df_close) * 0.75)\n",
        "test_size = len(df_close) - training_size\n",
        "train_data, test_data = df_close[0:training_size,:], df_close[training_size:len(df_close),:1]"
      ],
      "execution_count": null,
      "outputs": []
    },
    {
      "cell_type": "code",
      "metadata": {
        "id": "lYJP8gzQNdvy"
      },
      "source": [
        "def create_dataset(dataset, time_step = 1):\n",
        "    dataX, dataY = [], []\n",
        "    for i in range(len(dataset) - time_step - 1):\n",
        "        a = dataset[i:(i+time_step), 0]\n",
        "        dataX.append(a)\n",
        "        dataY.append(dataset[i+time_step, 0])\n",
        "    return np.array(dataX), np.array(dataY)"
      ],
      "execution_count": null,
      "outputs": []
    },
    {
      "cell_type": "code",
      "metadata": {
        "id": "2OU2Rqo2Nlus"
      },
      "source": [
        "time_step = 100\n",
        "x_train, y_train = create_dataset(train_data, time_step)\n",
        "x_test, y_test = create_dataset(test_data, time_step)"
      ],
      "execution_count": null,
      "outputs": []
    },
    {
      "cell_type": "code",
      "metadata": {
        "id": "MXH5PtahNq30"
      },
      "source": [
        "#Reshape the input to be [samples, time steps, features] which is the requirement of LSTM\n",
        "x_train = x_train.reshape(x_train.shape[0], x_train.shape[1], 1)\n",
        "x_test = x_test.reshape(x_test.shape[0], x_test.shape[1], 1)"
      ],
      "execution_count": null,
      "outputs": []
    },
    {
      "cell_type": "code",
      "metadata": {
        "id": "Ix0kb02LNvGx"
      },
      "source": [
        "#Create the LSTM Model\n",
        "model = Sequential()\n",
        "model.add(LSTM(50, return_sequences = True, input_shape = (100,1)))\n",
        "model.add(LSTM(50, return_sequences = True))\n",
        "model.add(LSTM(50))\n",
        "model.add(Dense(1))\n",
        "model.compile(loss = 'mean_squared_error', optimizer = 'adam')"
      ],
      "execution_count": null,
      "outputs": []
    },
    {
      "cell_type": "code",
      "metadata": {
        "colab": {
          "base_uri": "https://localhost:8080/"
        },
        "id": "Jbn1XFB6Nz6s",
        "outputId": "85c0032d-5298-4e6e-eaa9-a058a9a29bb2"
      },
      "source": [
        "model.summary()"
      ],
      "execution_count": null,
      "outputs": [
        {
          "output_type": "stream",
          "name": "stdout",
          "text": [
            "Model: \"sequential\"\n",
            "_________________________________________________________________\n",
            "Layer (type)                 Output Shape              Param #   \n",
            "=================================================================\n",
            "lstm (LSTM)                  (None, 100, 50)           10400     \n",
            "_________________________________________________________________\n",
            "lstm_1 (LSTM)                (None, 100, 50)           20200     \n",
            "_________________________________________________________________\n",
            "lstm_2 (LSTM)                (None, 50)                20200     \n",
            "_________________________________________________________________\n",
            "dense (Dense)                (None, 1)                 51        \n",
            "=================================================================\n",
            "Total params: 50,851\n",
            "Trainable params: 50,851\n",
            "Non-trainable params: 0\n",
            "_________________________________________________________________\n"
          ]
        }
      ]
    },
    {
      "cell_type": "code",
      "metadata": {
        "colab": {
          "base_uri": "https://localhost:8080/"
        },
        "id": "AxDK4TglN5NY",
        "outputId": "2801b896-1a60-4984-e721-1ff7c133450c"
      },
      "source": [
        "model.fit(x_train, y_train, validation_data = (x_test, y_test), epochs = 100, batch_size = 64, verbose = 1)"
      ],
      "execution_count": null,
      "outputs": [
        {
          "output_type": "stream",
          "name": "stdout",
          "text": [
            "Epoch 1/100\n",
            "23/23 [==============================] - 16s 375ms/step - loss: 0.0398 - val_loss: 0.0091\n",
            "Epoch 2/100\n",
            "23/23 [==============================] - 8s 338ms/step - loss: 0.0037 - val_loss: 0.0018\n",
            "Epoch 3/100\n",
            "23/23 [==============================] - 8s 338ms/step - loss: 0.0017 - val_loss: 0.0027\n",
            "Epoch 4/100\n",
            "23/23 [==============================] - 8s 345ms/step - loss: 0.0016 - val_loss: 0.0017\n",
            "Epoch 5/100\n",
            "23/23 [==============================] - 8s 351ms/step - loss: 0.0013 - val_loss: 0.0019\n",
            "Epoch 6/100\n",
            "23/23 [==============================] - 8s 335ms/step - loss: 0.0012 - val_loss: 0.0018\n",
            "Epoch 7/100\n",
            "23/23 [==============================] - 8s 334ms/step - loss: 0.0011 - val_loss: 0.0016\n",
            "Epoch 8/100\n",
            "23/23 [==============================] - 8s 352ms/step - loss: 0.0011 - val_loss: 0.0014\n",
            "Epoch 9/100\n",
            "23/23 [==============================] - 8s 357ms/step - loss: 0.0010 - val_loss: 0.0010\n",
            "Epoch 10/100\n",
            "23/23 [==============================] - 8s 352ms/step - loss: 0.0011 - val_loss: 0.0010\n",
            "Epoch 11/100\n",
            "23/23 [==============================] - 8s 338ms/step - loss: 9.5479e-04 - val_loss: 0.0010\n",
            "Epoch 12/100\n",
            "23/23 [==============================] - 8s 344ms/step - loss: 0.0011 - val_loss: 7.0638e-04\n",
            "Epoch 13/100\n",
            "23/23 [==============================] - 8s 350ms/step - loss: 9.4464e-04 - val_loss: 8.3434e-04\n",
            "Epoch 14/100\n",
            "23/23 [==============================] - 8s 331ms/step - loss: 8.5755e-04 - val_loss: 9.3715e-04\n",
            "Epoch 15/100\n",
            "23/23 [==============================] - 8s 329ms/step - loss: 8.5709e-04 - val_loss: 0.0010\n",
            "Epoch 16/100\n",
            "23/23 [==============================] - 8s 337ms/step - loss: 9.8371e-04 - val_loss: 8.1773e-04\n",
            "Epoch 17/100\n",
            "23/23 [==============================] - 8s 335ms/step - loss: 8.3889e-04 - val_loss: 0.0012\n",
            "Epoch 18/100\n",
            "23/23 [==============================] - 8s 331ms/step - loss: 9.4662e-04 - val_loss: 9.3634e-04\n",
            "Epoch 19/100\n",
            "23/23 [==============================] - 8s 328ms/step - loss: 8.5294e-04 - val_loss: 7.3584e-04\n",
            "Epoch 20/100\n",
            "23/23 [==============================] - 8s 335ms/step - loss: 7.6716e-04 - val_loss: 9.7758e-04\n",
            "Epoch 21/100\n",
            "23/23 [==============================] - 8s 347ms/step - loss: 7.5557e-04 - val_loss: 8.0106e-04\n",
            "Epoch 22/100\n",
            "23/23 [==============================] - 8s 330ms/step - loss: 7.1065e-04 - val_loss: 7.3989e-04\n",
            "Epoch 23/100\n",
            "23/23 [==============================] - 8s 353ms/step - loss: 6.7317e-04 - val_loss: 8.6831e-04\n",
            "Epoch 24/100\n",
            "23/23 [==============================] - 8s 346ms/step - loss: 6.7016e-04 - val_loss: 7.2091e-04\n",
            "Epoch 25/100\n",
            "23/23 [==============================] - 8s 343ms/step - loss: 6.5478e-04 - val_loss: 8.5147e-04\n",
            "Epoch 26/100\n",
            "23/23 [==============================] - 8s 347ms/step - loss: 6.3470e-04 - val_loss: 7.3060e-04\n",
            "Epoch 27/100\n",
            "23/23 [==============================] - 8s 337ms/step - loss: 6.3385e-04 - val_loss: 5.6269e-04\n",
            "Epoch 28/100\n",
            "23/23 [==============================] - 8s 334ms/step - loss: 7.3658e-04 - val_loss: 9.9135e-04\n",
            "Epoch 29/100\n",
            "23/23 [==============================] - 8s 332ms/step - loss: 7.5327e-04 - val_loss: 7.8464e-04\n",
            "Epoch 30/100\n",
            "23/23 [==============================] - 8s 332ms/step - loss: 6.1485e-04 - val_loss: 7.5916e-04\n",
            "Epoch 31/100\n",
            "23/23 [==============================] - 8s 346ms/step - loss: 6.0498e-04 - val_loss: 6.9140e-04\n",
            "Epoch 32/100\n",
            "23/23 [==============================] - 7s 326ms/step - loss: 6.3318e-04 - val_loss: 7.3098e-04\n",
            "Epoch 33/100\n",
            "23/23 [==============================] - 8s 330ms/step - loss: 6.0976e-04 - val_loss: 0.0010\n",
            "Epoch 34/100\n",
            "23/23 [==============================] - 8s 335ms/step - loss: 5.8727e-04 - val_loss: 6.1016e-04\n",
            "Epoch 35/100\n",
            "23/23 [==============================] - 8s 340ms/step - loss: 5.3988e-04 - val_loss: 8.6354e-04\n",
            "Epoch 36/100\n",
            "23/23 [==============================] - 8s 333ms/step - loss: 6.1453e-04 - val_loss: 6.3900e-04\n",
            "Epoch 37/100\n",
            "23/23 [==============================] - 8s 332ms/step - loss: 5.5486e-04 - val_loss: 6.3343e-04\n",
            "Epoch 38/100\n",
            "23/23 [==============================] - 8s 331ms/step - loss: 5.2465e-04 - val_loss: 8.4373e-04\n",
            "Epoch 39/100\n",
            "23/23 [==============================] - 8s 345ms/step - loss: 5.4932e-04 - val_loss: 6.7927e-04\n",
            "Epoch 40/100\n",
            "23/23 [==============================] - 8s 340ms/step - loss: 5.5619e-04 - val_loss: 8.0297e-04\n",
            "Epoch 41/100\n",
            "23/23 [==============================] - 8s 336ms/step - loss: 5.2515e-04 - val_loss: 7.1159e-04\n",
            "Epoch 42/100\n",
            "23/23 [==============================] - 8s 357ms/step - loss: 5.0969e-04 - val_loss: 6.5014e-04\n",
            "Epoch 43/100\n",
            "23/23 [==============================] - 8s 336ms/step - loss: 5.2412e-04 - val_loss: 5.1728e-04\n",
            "Epoch 44/100\n",
            "23/23 [==============================] - 8s 360ms/step - loss: 4.7313e-04 - val_loss: 5.8489e-04\n",
            "Epoch 45/100\n",
            "23/23 [==============================] - 8s 332ms/step - loss: 4.7525e-04 - val_loss: 5.3680e-04\n",
            "Epoch 46/100\n",
            "23/23 [==============================] - 8s 338ms/step - loss: 4.9859e-04 - val_loss: 5.5914e-04\n",
            "Epoch 47/100\n",
            "23/23 [==============================] - 8s 344ms/step - loss: 4.8480e-04 - val_loss: 4.2333e-04\n",
            "Epoch 48/100\n",
            "23/23 [==============================] - 8s 339ms/step - loss: 5.0511e-04 - val_loss: 6.0453e-04\n",
            "Epoch 49/100\n",
            "23/23 [==============================] - 8s 343ms/step - loss: 4.4186e-04 - val_loss: 6.3068e-04\n",
            "Epoch 50/100\n",
            "23/23 [==============================] - 8s 326ms/step - loss: 4.5348e-04 - val_loss: 4.6607e-04\n",
            "Epoch 51/100\n",
            "23/23 [==============================] - 8s 329ms/step - loss: 4.3644e-04 - val_loss: 6.9889e-04\n",
            "Epoch 52/100\n",
            "23/23 [==============================] - 8s 343ms/step - loss: 4.7433e-04 - val_loss: 4.6445e-04\n",
            "Epoch 53/100\n",
            "23/23 [==============================] - 8s 334ms/step - loss: 4.5327e-04 - val_loss: 5.4325e-04\n",
            "Epoch 54/100\n",
            "23/23 [==============================] - 8s 342ms/step - loss: 4.0472e-04 - val_loss: 3.7612e-04\n",
            "Epoch 55/100\n",
            "23/23 [==============================] - 8s 332ms/step - loss: 4.1134e-04 - val_loss: 3.9524e-04\n",
            "Epoch 56/100\n",
            "23/23 [==============================] - 8s 336ms/step - loss: 3.8529e-04 - val_loss: 4.5137e-04\n",
            "Epoch 57/100\n",
            "23/23 [==============================] - 8s 342ms/step - loss: 3.8986e-04 - val_loss: 4.6170e-04\n",
            "Epoch 58/100\n",
            "23/23 [==============================] - 8s 336ms/step - loss: 4.3880e-04 - val_loss: 4.7395e-04\n",
            "Epoch 59/100\n",
            "23/23 [==============================] - 8s 339ms/step - loss: 3.8164e-04 - val_loss: 3.8334e-04\n",
            "Epoch 60/100\n",
            "23/23 [==============================] - 8s 343ms/step - loss: 3.5289e-04 - val_loss: 4.0900e-04\n",
            "Epoch 61/100\n",
            "23/23 [==============================] - 8s 330ms/step - loss: 3.7165e-04 - val_loss: 3.5242e-04\n",
            "Epoch 62/100\n",
            "23/23 [==============================] - 8s 350ms/step - loss: 3.6110e-04 - val_loss: 4.0013e-04\n",
            "Epoch 63/100\n",
            "23/23 [==============================] - 8s 345ms/step - loss: 3.4253e-04 - val_loss: 4.3768e-04\n",
            "Epoch 64/100\n",
            "23/23 [==============================] - 8s 343ms/step - loss: 3.3264e-04 - val_loss: 4.6775e-04\n",
            "Epoch 65/100\n",
            "23/23 [==============================] - 8s 339ms/step - loss: 3.3233e-04 - val_loss: 4.7385e-04\n",
            "Epoch 66/100\n",
            "23/23 [==============================] - 8s 345ms/step - loss: 3.2701e-04 - val_loss: 2.9376e-04\n",
            "Epoch 67/100\n",
            "23/23 [==============================] - 8s 344ms/step - loss: 3.3474e-04 - val_loss: 2.8166e-04\n",
            "Epoch 68/100\n",
            "23/23 [==============================] - 8s 353ms/step - loss: 3.6064e-04 - val_loss: 3.2760e-04\n",
            "Epoch 69/100\n",
            "23/23 [==============================] - 8s 348ms/step - loss: 3.1131e-04 - val_loss: 2.7992e-04\n",
            "Epoch 70/100\n",
            "23/23 [==============================] - 8s 343ms/step - loss: 4.3374e-04 - val_loss: 4.0987e-04\n",
            "Epoch 71/100\n",
            "23/23 [==============================] - 8s 339ms/step - loss: 3.2617e-04 - val_loss: 3.4761e-04\n",
            "Epoch 72/100\n",
            "23/23 [==============================] - 8s 330ms/step - loss: 2.9872e-04 - val_loss: 2.9599e-04\n",
            "Epoch 73/100\n",
            "23/23 [==============================] - 8s 347ms/step - loss: 2.8712e-04 - val_loss: 2.4891e-04\n",
            "Epoch 74/100\n",
            "23/23 [==============================] - 8s 342ms/step - loss: 2.9634e-04 - val_loss: 2.4455e-04\n",
            "Epoch 75/100\n",
            "23/23 [==============================] - 8s 358ms/step - loss: 2.9510e-04 - val_loss: 2.2691e-04\n",
            "Epoch 76/100\n",
            "23/23 [==============================] - 8s 342ms/step - loss: 2.9410e-04 - val_loss: 3.2459e-04\n",
            "Epoch 77/100\n",
            "23/23 [==============================] - 8s 335ms/step - loss: 3.6442e-04 - val_loss: 2.4857e-04\n",
            "Epoch 78/100\n",
            "23/23 [==============================] - 8s 340ms/step - loss: 2.6051e-04 - val_loss: 3.1655e-04\n",
            "Epoch 79/100\n",
            "23/23 [==============================] - 8s 342ms/step - loss: 3.2125e-04 - val_loss: 2.6386e-04\n",
            "Epoch 80/100\n",
            "23/23 [==============================] - 8s 335ms/step - loss: 2.6092e-04 - val_loss: 2.2492e-04\n",
            "Epoch 81/100\n",
            "23/23 [==============================] - 8s 345ms/step - loss: 2.5971e-04 - val_loss: 2.3166e-04\n",
            "Epoch 82/100\n",
            "23/23 [==============================] - 8s 345ms/step - loss: 2.5786e-04 - val_loss: 2.3400e-04\n",
            "Epoch 83/100\n",
            "23/23 [==============================] - 8s 359ms/step - loss: 2.4341e-04 - val_loss: 3.0762e-04\n",
            "Epoch 84/100\n",
            "23/23 [==============================] - 8s 358ms/step - loss: 2.4002e-04 - val_loss: 2.6849e-04\n",
            "Epoch 85/100\n",
            "23/23 [==============================] - 8s 333ms/step - loss: 2.4837e-04 - val_loss: 2.0937e-04\n",
            "Epoch 86/100\n",
            "23/23 [==============================] - 8s 357ms/step - loss: 2.4891e-04 - val_loss: 2.2839e-04\n",
            "Epoch 87/100\n",
            "23/23 [==============================] - 8s 339ms/step - loss: 2.4843e-04 - val_loss: 2.6757e-04\n",
            "Epoch 88/100\n",
            "23/23 [==============================] - 8s 339ms/step - loss: 2.5228e-04 - val_loss: 2.2756e-04\n",
            "Epoch 89/100\n",
            "23/23 [==============================] - 8s 340ms/step - loss: 2.3883e-04 - val_loss: 2.0710e-04\n",
            "Epoch 90/100\n",
            "23/23 [==============================] - 8s 332ms/step - loss: 2.2594e-04 - val_loss: 3.3594e-04\n",
            "Epoch 91/100\n",
            "23/23 [==============================] - 8s 363ms/step - loss: 2.3582e-04 - val_loss: 2.3721e-04\n",
            "Epoch 92/100\n",
            "23/23 [==============================] - 8s 333ms/step - loss: 2.3557e-04 - val_loss: 1.7183e-04\n",
            "Epoch 93/100\n",
            "23/23 [==============================] - 8s 359ms/step - loss: 2.5534e-04 - val_loss: 3.4491e-04\n",
            "Epoch 94/100\n",
            "23/23 [==============================] - 8s 344ms/step - loss: 2.9809e-04 - val_loss: 2.1527e-04\n",
            "Epoch 95/100\n",
            "23/23 [==============================] - 8s 352ms/step - loss: 2.7949e-04 - val_loss: 1.8393e-04\n",
            "Epoch 96/100\n",
            "23/23 [==============================] - 8s 342ms/step - loss: 2.3466e-04 - val_loss: 1.9991e-04\n",
            "Epoch 97/100\n",
            "23/23 [==============================] - 8s 353ms/step - loss: 2.3011e-04 - val_loss: 1.9182e-04\n",
            "Epoch 98/100\n",
            "23/23 [==============================] - 8s 333ms/step - loss: 2.2743e-04 - val_loss: 2.4285e-04\n",
            "Epoch 99/100\n",
            "23/23 [==============================] - 8s 336ms/step - loss: 2.2021e-04 - val_loss: 2.3493e-04\n",
            "Epoch 100/100\n",
            "23/23 [==============================] - 8s 350ms/step - loss: 2.3157e-04 - val_loss: 1.8364e-04\n"
          ]
        },
        {
          "output_type": "execute_result",
          "data": {
            "text/plain": [
              "<tensorflow.python.keras.callbacks.History at 0x7ff1c882a150>"
            ]
          },
          "metadata": {},
          "execution_count": 16
        }
      ]
    },
    {
      "cell_type": "code",
      "metadata": {
        "id": "yCMKWWuITfeP"
      },
      "source": [
        "#Lets predict and check performance metrics\n",
        "train_predict = model.predict(x_train)\n",
        "test_predict = model.predict(x_test)"
      ],
      "execution_count": null,
      "outputs": []
    },
    {
      "cell_type": "code",
      "metadata": {
        "id": "MUlUdaj7T4Pe"
      },
      "source": [
        "#Transform back to original form\n",
        "train_predict = scaler.inverse_transform(train_predict)\n",
        "test_predict = scaler.inverse_transform(test_predict)"
      ],
      "execution_count": null,
      "outputs": []
    },
    {
      "cell_type": "code",
      "metadata": {
        "colab": {
          "base_uri": "https://localhost:8080/"
        },
        "id": "sYRm3ufRT8wn",
        "outputId": "6026bb5a-0030-4e55-e066-cc27802fc4ef"
      },
      "source": [
        "#Calculate RMSE performance metrics\n",
        "math.sqrt(mean_squared_error(y_train, train_predict))"
      ],
      "execution_count": null,
      "outputs": [
        {
          "output_type": "execute_result",
          "data": {
            "text/plain": [
              "162.6035914389753"
            ]
          },
          "metadata": {},
          "execution_count": 19
        }
      ]
    },
    {
      "cell_type": "code",
      "metadata": {
        "colab": {
          "base_uri": "https://localhost:8080/"
        },
        "id": "bqmHoNStUEgB",
        "outputId": "a1ec339c-70ee-42e1-dfa6-7d8fd55cd2cc"
      },
      "source": [
        "#Test Data RMSE\n",
        "math.sqrt(mean_squared_error(y_test, test_predict))"
      ],
      "execution_count": null,
      "outputs": [
        {
          "output_type": "execute_result",
          "data": {
            "text/plain": [
              "105.47919488467865"
            ]
          },
          "metadata": {},
          "execution_count": 20
        }
      ]
    },
    {
      "cell_type": "code",
      "metadata": {
        "colab": {
          "base_uri": "https://localhost:8080/",
          "height": 265
        },
        "id": "YlCBtcu8UGbM",
        "outputId": "d00c2658-9239-499a-d1fb-194487af280d"
      },
      "source": [
        "#Plotting\n",
        "\n",
        "#Shift train prediction for plotting\n",
        "look_back = 100\n",
        "trainPredictPlot = np.empty_like(df_close)\n",
        "trainPredictPlot[:,:] = np.nan\n",
        "trainPredictPlot[look_back:len(train_predict) + look_back, :] = train_predict\n",
        "\n",
        "#Shift test prediction for plotting\n",
        "testPredictPlot = np.empty_like(df_close)\n",
        "testPredictPlot[:,:] = np.nan\n",
        "testPredictPlot[len(train_predict) + (look_back * 2)+1:len(df_close) - 1, :] = test_predict\n",
        "\n",
        "#Plot baseline and predictions\n",
        "plt.plot(scaler.inverse_transform(df_close))\n",
        "plt.plot(trainPredictPlot)\n",
        "plt.plot(testPredictPlot)\n",
        "plt.show()"
      ],
      "execution_count": null,
      "outputs": [
        {
          "output_type": "display_data",
          "data": {
            "image/png": "[encoded data removed]",
            "text/plain": [
              "<Figure size 432x288 with 1 Axes>"
            ]
          },
          "metadata": {
            "needs_background": "light"
          }
        }
      ]
    }
  ]
}